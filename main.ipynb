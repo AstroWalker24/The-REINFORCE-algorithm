{
 "cells": [
  {
   "cell_type": "markdown",
   "metadata": {},
   "source": [
    "\n",
    "##### بِسْمِ اللهِ"
   ]
  },
  {
   "cell_type": "code",
   "execution_count": 1,
   "metadata": {},
   "outputs": [],
   "source": [
    "import gymnasium as gym\n",
    "import numpy as np\n",
    "import torch\n",
    "from IPython import display\n",
    "import torch.nn as nn \n",
    "import torch.optim as optim\n",
    "from torch.distributions import Categorical \n",
    "\n",
    "%matplotlib inline\n"
   ]
  },
  {
   "cell_type": "code",
   "execution_count": 2,
   "metadata": {},
   "outputs": [
    {
     "name": "stdout",
     "output_type": "stream",
     "text": [
      "Discrete(2)\n",
      "Box([-4.8000002e+00 -3.4028235e+38 -4.1887903e-01 -3.4028235e+38], [4.8000002e+00 3.4028235e+38 4.1887903e-01 3.4028235e+38], (4,), float32)\n"
     ]
    }
   ],
   "source": [
    "# initializing the environment - cartpole\n",
    "# 1 loading the cartpole environment \n",
    "cartpole_env=gym.make('CartPole-v1',render_mode='human')\n",
    "print(cartpole_env.action_space)\n",
    "print(cartpole_env.observation_space)\n"
   ]
  },
  {
   "cell_type": "code",
   "execution_count": 3,
   "metadata": {},
   "outputs": [
    {
     "data": {
      "text/plain": [
       "(array([-0.01909882,  0.03798336, -0.02569086, -0.02915795], dtype=float32),\n",
       " {})"
      ]
     },
     "execution_count": 3,
     "metadata": {},
     "output_type": "execute_result"
    }
   ],
   "source": [
    "# 2 Try to sample random actions using env.action_space.sample() and observe how many \n",
    "# timesteps are taken in each episode\n",
    "cartpole_env.reset(seed=58)"
   ]
  },
  {
   "cell_type": "code",
   "execution_count": 4,
   "metadata": {},
   "outputs": [
    {
     "data": {
      "text/plain": [
       "[58]"
      ]
     },
     "execution_count": 4,
     "metadata": {},
     "output_type": "execute_result"
    }
   ],
   "source": [
    "cartpole_env.action_space.seed(58)"
   ]
  },
  {
   "cell_type": "code",
   "execution_count": null,
   "metadata": {},
   "outputs": [],
   "source": [
    "def reinforce(env,param,alpha,episodes):\n",
    "    reward_data=[]\n",
    "    for each_episode in range(episodes):\n",
    "        observation = env.reset()[0]\n",
    "        episode_data = []\n",
    "        \n",
    "        done = False\n",
    "        total_reward=0\n",
    "        while not done:\n",
    "            cartpole_env.render()\n",
    "            \n",
    "            # calculating the policy value \n",
    "            policy_value = np.dot(param, observation)\n",
    "            # apply sigmoid function to get the probability \n",
    "            prob = 1 / (1 + np.exp(-policy_value))\n",
    "            # print(\"The probability is and the type of probability is: \",prob,type(prob))\n",
    "\n",
    "            if prob > 0.5:\n",
    "                action = 1\n",
    "            else:\n",
    "                action = 0\n",
    "\n",
    "            # get the next observation and reward \n",
    "            next_observation, reward, done, _, _ = env.step(action)\n",
    "            episode_data.append((observation, action, reward, prob))\n",
    "            total_reward+=reward\n",
    "            observation = next_observation\n",
    "            \n",
    "\n",
    "        # updating the policy parameters \n",
    "        for i in range(len(episode_data)):\n",
    "            obs, act, rew, prob = episode_data[i]\n",
    "            # applying the update rule\n",
    "            param = param + alpha * (1 - prob) * obs * rew\n",
    "        \n",
    "        reward_data.append(total_reward)\n",
    "\n",
    "    return param,reward_data\n",
    "\n",
    "\n"
   ]
  },
  {
   "cell_type": "code",
   "execution_count": null,
   "metadata": {},
   "outputs": [],
   "source": [
    "cartpole_env.reset()\n",
    "cartpole_env_size=cartpole_env.observation_space.shape[0]\n",
    "alpha=0.001\n",
    "episodes=10\n",
    "\n",
    "policy_params=np.array(np.random.rand(4)*2-1)\n",
    "updated_policy_params,reward_data=reinforce(cartpole_env,policy_params,alpha,episodes)\n",
    "print(f\"The initial Policy Parameters were {policy_params} and the updated Policy Params were {updated_policy_params}\")\n",
    "print(\"The rewards obtained are : \",reward_data)\n",
    "print(f\"The Max reward obtained is : {max(reward_data)} and the Min reward obtained is : {min(reward_data)}\")"
   ]
  },
  {
   "cell_type": "markdown",
   "metadata": {},
   "source": [
    "episodes_datapoints=np.arange(0,episodes,1)\n",
    "plt.plot(episodes_datapoints,reward_data)\n"
   ]
  }
 ],
 "metadata": {
  "kernelspec": {
   "display_name": "Python 3",
   "language": "python",
   "name": "python3"
  },
  "language_info": {
   "codemirror_mode": {
    "name": "ipython",
    "version": 3
   },
   "file_extension": ".py",
   "mimetype": "text/x-python",
   "name": "python",
   "nbconvert_exporter": "python",
   "pygments_lexer": "ipython3",
   "version": "3.12.4"
  }
 },
 "nbformat": 4,
 "nbformat_minor": 2
}
